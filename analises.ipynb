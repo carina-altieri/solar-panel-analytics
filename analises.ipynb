{
 "cells": [
  {
   "cell_type": "code",
   "execution_count": 38,
   "id": "a0a4a0e0",
   "metadata": {},
   "outputs": [],
   "source": [
    "import pandas as pd\n",
    "import matplotlib.pyplot as plt\n",
    "import seaborn as sns\n",
    "import mysql.connector"
   ]
  },
  {
   "cell_type": "code",
   "execution_count": 50,
   "id": "20fa71c4",
   "metadata": {},
   "outputs": [],
   "source": [
    "# carregar os dados do CSV\n",
    "df = pd.read_csv(\"dados_3_meses.csv\", sep=\";\")"
   ]
  },
  {
   "cell_type": "code",
   "execution_count": 51,
   "id": "3b3907d2",
   "metadata": {},
   "outputs": [
    {
     "name": "stdout",
     "output_type": "stream",
     "text": [
      "data\n",
      "2025-02-01     767\n",
      "2025-02-02    1716\n",
      "2025-02-03    1914\n",
      "2025-02-04    1692\n",
      "2025-02-05    1581\n",
      "              ... \n",
      "2025-04-26    1819\n",
      "2025-04-27    2079\n",
      "2025-04-28    1736\n",
      "2025-04-29    1689\n",
      "2025-04-30     872\n",
      "Length: 89, dtype: int64\n"
     ]
    }
   ],
   "source": [
    "# calcular a energia gerada (Wh) = irradiação * tempo (em horas) * área do painel * eficiência\n",
    "tempo_horas = 0.25 # 15 minutos\n",
    "area_painel = 2 # m2 - área média \n",
    "\n",
    "def eficiencia_energetica(status):\n",
    "    if status == \"Operando...\":\n",
    "        return 0.18\n",
    "    elif status == \"Falha\":\n",
    "        return 0.05\n",
    "    else:\n",
    "        return 0.0\n",
    "    \n",
    "energia_por_registro = df.apply(lambda x: round(x['irradiacao_solar'] * eficiencia_energetica(x['status_painel']) * tempo_horas * 1.6), axis=1) \n",
    "\n",
    "# Verificar o quanto de energia o painel gera por dia (Wh), com base na eficiência energética do painel solar\n",
    "energia_gerada_dia = energia_por_registro.groupby(df['data']).sum()\n",
    "print(energia_gerada_dia)"
   ]
  },
  {
   "cell_type": "code",
   "execution_count": null,
   "id": "7b356e23",
   "metadata": {},
   "outputs": [
    {
     "data": {
      "image/png": "[encoded data removed]",
      "text/plain": [
       "<Figure size 640x480 with 1 Axes>"
      ]
     },
     "metadata": {},
     "output_type": "display_data"
    }
   ],
   "source": [
    "# Mês mais produtivo (maior energia gerada)\n",
    "df['data'] = pd.to_datetime(df['data'])\n",
    "\n",
    "df_temp = pd.DataFrame({\n",
    "    'mes': df['data'].dt.month,\n",
    "    'energia': energia_por_registro\n",
    "})\n",
    "energia_por_mes = df_temp.groupby('mes')['energia'].sum()\n",
    "x = energia_por_mes.index # index - meses\n",
    "y= energia_por_mes.values # values - valores somados de energia para cada mês\n",
    "\n",
    "df_temp.head(55)\n",
    "plt.bar(x,y)\n",
    "plt.xlabel(\"Mês\")\n",
    "plt.ylabel(\"Energia gerada (Wh)\")\n",
    "plt.xticks([2, 3, 4], ['Fev', 'Mar', 'Abril'])\n",
    "plt.show()\n",
    "\n"
   ]
  },
  {
   "cell_type": "code",
   "execution_count": null,
   "id": "9601d45a",
   "metadata": {},
   "outputs": [],
   "source": [
    "# Desempenho do painel durante o dia (quais horários o desempenho do painel é mais eficiente)"
   ]
  },
  {
   "cell_type": "code",
   "execution_count": null,
   "id": "ee0272c5",
   "metadata": {},
   "outputs": [],
   "source": [
    "# Em quais horários do dia há maior probabilidade de falhas"
   ]
  },
  {
   "cell_type": "code",
   "execution_count": null,
   "id": "9ead584c",
   "metadata": {},
   "outputs": [],
   "source": [
    "# Relação entre índice de falhas e temperatura do painel"
   ]
  },
  {
   "cell_type": "code",
   "execution_count": null,
   "id": "4dd468e6",
   "metadata": {},
   "outputs": [],
   "source": [
    "# Faixa de temperatura ambiental em que o painel apresenta menos falhas"
   ]
  }
 ],
 "metadata": {
  "kernelspec": {
   "display_name": "Python 3",
   "language": "python",
   "name": "python3"
  },
  "language_info": {
   "codemirror_mode": {
    "name": "ipython",
    "version": 3
   },
   "file_extension": ".py",
   "mimetype": "text/x-python",
   "name": "python",
   "nbconvert_exporter": "python",
   "pygments_lexer": "ipython3",
   "version": "3.11.3"
  }
 },
 "nbformat": 4,
 "nbformat_minor": 5
}
