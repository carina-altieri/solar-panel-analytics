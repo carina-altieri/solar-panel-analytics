{
 "cells": [
  {
   "cell_type": "code",
   "execution_count": null,
   "id": "a0a4a0e0",
   "metadata": {
    "vscode": {
     "languageId": "plaintext"
    }
   },
   "outputs": [],
   "source": [
    "import pandas as pd\n",
    "import matplotlib.pyplot as plt\n",
    "import seaborn as sns\n",
    "import mysql.connector"
   ]
  },
  {
   "cell_type": "markdown",
   "id": "04d5eaca",
   "metadata": {},
   "source": [
    "Análises:\n",
    "\n",
    "Verificar o quanto de energia o painel está gerando por dia\n",
    "Verificar o desempenho do painel durante o dia (manhã e a tarde) - compreender em quais horários do dia o desempenho do painel é mais eficiente, pode ajudar os clientes a planejar o melhor uso da energia gerada\n",
    "Verificar os dias que foram mais produtivos (com maior irradiação)\n",
    "Verificar em quais horários do dia há maior probabilidade de falhas\n",
    "Verificar se a chance de falha quando a temperatura do painel está muito alta\n",
    "Verificar em que faixa de temperatura o painel apresenta menos falhas\n"
   ]
  }
 ],
 "metadata": {
  "language_info": {
   "name": "python"
  }
 },
 "nbformat": 4,
 "nbformat_minor": 5
}
