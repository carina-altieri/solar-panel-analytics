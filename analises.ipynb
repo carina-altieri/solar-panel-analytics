{
 "cells": [
  {
   "cell_type": "code",
   "execution_count": 1,
   "id": "a0a4a0e0",
   "metadata": {},
   "outputs": [],
   "source": [
    "import pandas as pd\n",
    "import matplotlib.pyplot as plt\n",
    "import seaborn as sns\n",
    "import mysql.connector"
   ]
  },
  {
   "cell_type": "code",
   "execution_count": null,
   "id": "20fa71c4",
   "metadata": {},
   "outputs": [],
   "source": [
    "# carregar os dados do CSV\n",
    "df = pd.read_csv(\"dados_3_meses.csv\")"
   ]
  },
  {
   "cell_type": "code",
   "execution_count": 19,
   "id": "3b3907d2",
   "metadata": {},
   "outputs": [
    {
     "name": "stdout",
     "output_type": "stream",
     "text": [
      "data\n",
      "2025-02-12       0\n",
      "2025-02-13    1916\n",
      "2025-02-14    1902\n",
      "2025-02-15    1855\n",
      "2025-02-16    1830\n",
      "              ... \n",
      "2025-05-09    2108\n",
      "2025-05-10    1722\n",
      "2025-05-11    1825\n",
      "2025-05-12    1694\n",
      "2025-05-13    1769\n",
      "Length: 91, dtype: int64\n"
     ]
    }
   ],
   "source": [
    "# calcular a energia gerada (Wh) = irradiação * tempo (em horas) * área do painel * eficiência\n",
    "\n",
    "tempo_horas = 0.25 # 15 minutos\n",
    "area_painel = 2 # m2 - área média \n",
    "\n",
    "def eficiencia_energetica(status):\n",
    "    if status == \"Operando...\":\n",
    "        return 0.18\n",
    "    elif status == \"Falha\":\n",
    "        return 0.05\n",
    "    else:\n",
    "        return 0.0\n",
    "\n",
    "energia_por_registro = df.apply(lambda x: round(x['irradiacao_solar'] * eficiencia_energetica(x['status_painel']) * tempo_horas * 1.6), axis=1) \n",
    "\n",
    "# Verificar o quanto de energia o painel gera por dia (Wh), com base na eficiência energética do painel solar\n",
    "\n",
    "energia_gerada_dia = energia_por_registro.groupby(df[\"data\"]).sum()\n",
    "print(energia_gerada_dia)"
   ]
  },
  {
   "cell_type": "code",
   "execution_count": null,
   "id": "7b356e23",
   "metadata": {},
   "outputs": [],
   "source": [
    "# Dias mais produtivos (maior energia gerada)"
   ]
  },
  {
   "cell_type": "code",
   "execution_count": null,
   "id": "9601d45a",
   "metadata": {},
   "outputs": [],
   "source": [
    "# Desempenho do painel durante o dia (quais horários o desempenho do painel é mais eficiente)"
   ]
  },
  {
   "cell_type": "code",
   "execution_count": null,
   "id": "ee0272c5",
   "metadata": {},
   "outputs": [],
   "source": [
    "# Em quais horários do dia há maior probabilidade de falhas"
   ]
  },
  {
   "cell_type": "code",
   "execution_count": null,
   "id": "9ead584c",
   "metadata": {},
   "outputs": [],
   "source": [
    "# Relação entre índice de falhas e temperatura do painel"
   ]
  },
  {
   "cell_type": "code",
   "execution_count": null,
   "id": "4dd468e6",
   "metadata": {},
   "outputs": [],
   "source": [
    "# Faixa de temperatura ambiental em que o painel apresenta menos falhas"
   ]
  }
 ],
 "metadata": {
  "kernelspec": {
   "display_name": "Python 3",
   "language": "python",
   "name": "python3"
  },
  "language_info": {
   "codemirror_mode": {
    "name": "ipython",
    "version": 3
   },
   "file_extension": ".py",
   "mimetype": "text/x-python",
   "name": "python",
   "nbconvert_exporter": "python",
   "pygments_lexer": "ipython3",
   "version": "3.11.3"
  }
 },
 "nbformat": 4,
 "nbformat_minor": 5
}
